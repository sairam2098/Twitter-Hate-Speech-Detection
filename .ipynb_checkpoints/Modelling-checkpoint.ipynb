{
 "cells": [
  {
   "cell_type": "code",
   "execution_count": 1,
   "id": "2ea24763",
   "metadata": {},
   "outputs": [],
   "source": [
    "import pandas as pd\n",
    "import plotly\n",
    "from plotly import graph_objs\n",
    "import re\n",
    "from nltk.tokenize import word_tokenize\n",
    "from nltk.corpus import stopwords\n",
    "from nltk.stem import WordNetLemmatizer\n",
    "import numpy as np\n",
    "import matplotlib.pyplot as plt\n",
    "import seaborn as sns\n",
    "\n",
    "from sklearn import svm\n",
    "from sklearn.model_selection import train_test_split\n",
    "from sklearn.feature_extraction.text import TfidfVectorizer\n",
    "from sklearn.naive_bayes import MultinomialNB\n",
    "from sklearn.linear_model import LogisticRegression\n",
    "from sklearn.tree import DecisionTreeClassifier\n",
    "from sklearn.ensemble import RandomForestClassifier, AdaBoostClassifier, GradientBoostingClassifier\n",
    "from sklearn.metrics import precision_score, recall_score, accuracy_score, f1_score, average_precision_score, confusion_matrix, roc_auc_score"
   ]
  },
  {
   "cell_type": "code",
   "execution_count": 2,
   "id": "1dc0df84",
   "metadata": {},
   "outputs": [
    {
     "name": "stderr",
     "output_type": "stream",
     "text": [
      "[nltk_data] Downloading package stopwords to\n",
      "[nltk_data]     C:\\Users\\dvvsa\\AppData\\Roaming\\nltk_data...\n",
      "[nltk_data]   Package stopwords is already up-to-date!\n",
      "[nltk_data] Downloading package punkt to\n",
      "[nltk_data]     C:\\Users\\dvvsa\\AppData\\Roaming\\nltk_data...\n",
      "[nltk_data]   Package punkt is already up-to-date!\n",
      "[nltk_data] Downloading package wordnet to\n",
      "[nltk_data]     C:\\Users\\dvvsa\\AppData\\Roaming\\nltk_data...\n",
      "[nltk_data]   Package wordnet is already up-to-date!\n",
      "[nltk_data] Downloading package omw-1.4 to\n",
      "[nltk_data]     C:\\Users\\dvvsa\\AppData\\Roaming\\nltk_data...\n",
      "[nltk_data]   Package omw-1.4 is already up-to-date!\n"
     ]
    },
    {
     "data": {
      "text/plain": [
       "True"
      ]
     },
     "execution_count": 2,
     "metadata": {},
     "output_type": "execute_result"
    }
   ],
   "source": [
    "import nltk\n",
    "nltk.download('stopwords')\n",
    "nltk.download('punkt')\n",
    "nltk.download('wordnet')\n",
    "nltk.download('omw-1.4')"
   ]
  },
  {
   "cell_type": "code",
   "execution_count": 3,
   "id": "efe7e1ee",
   "metadata": {},
   "outputs": [
    {
     "data": {
      "text/html": [
       "<div>\n",
       "<style scoped>\n",
       "    .dataframe tbody tr th:only-of-type {\n",
       "        vertical-align: middle;\n",
       "    }\n",
       "\n",
       "    .dataframe tbody tr th {\n",
       "        vertical-align: top;\n",
       "    }\n",
       "\n",
       "    .dataframe thead th {\n",
       "        text-align: right;\n",
       "    }\n",
       "</style>\n",
       "<table border=\"1\" class=\"dataframe\">\n",
       "  <thead>\n",
       "    <tr style=\"text-align: right;\">\n",
       "      <th></th>\n",
       "      <th>count</th>\n",
       "      <th>hate_speech</th>\n",
       "      <th>offensive_language</th>\n",
       "      <th>neither</th>\n",
       "      <th>class</th>\n",
       "      <th>tweet</th>\n",
       "    </tr>\n",
       "  </thead>\n",
       "  <tbody>\n",
       "    <tr>\n",
       "      <th>0</th>\n",
       "      <td>3</td>\n",
       "      <td>0</td>\n",
       "      <td>0</td>\n",
       "      <td>3</td>\n",
       "      <td>2</td>\n",
       "      <td>!!! RT @mayasolovely: As a woman woman you sho...</td>\n",
       "    </tr>\n",
       "    <tr>\n",
       "      <th>1</th>\n",
       "      <td>3</td>\n",
       "      <td>0</td>\n",
       "      <td>3</td>\n",
       "      <td>0</td>\n",
       "      <td>1</td>\n",
       "      <td>!!!!! RT @mleew17: boy dats cold...tyga dwn ba...</td>\n",
       "    </tr>\n",
       "    <tr>\n",
       "      <th>2</th>\n",
       "      <td>3</td>\n",
       "      <td>0</td>\n",
       "      <td>3</td>\n",
       "      <td>0</td>\n",
       "      <td>1</td>\n",
       "      <td>!!!!!!! RT @UrKindOfBrand Dawg!!!! RT @80sbaby...</td>\n",
       "    </tr>\n",
       "    <tr>\n",
       "      <th>3</th>\n",
       "      <td>3</td>\n",
       "      <td>0</td>\n",
       "      <td>2</td>\n",
       "      <td>1</td>\n",
       "      <td>1</td>\n",
       "      <td>!!!!!!!!! RT @C_G_Anderson: @viva_based she lo...</td>\n",
       "    </tr>\n",
       "    <tr>\n",
       "      <th>4</th>\n",
       "      <td>6</td>\n",
       "      <td>0</td>\n",
       "      <td>6</td>\n",
       "      <td>0</td>\n",
       "      <td>1</td>\n",
       "      <td>!!!!!!!!!!!!! RT @ShenikaRoberts: The shit you...</td>\n",
       "    </tr>\n",
       "  </tbody>\n",
       "</table>\n",
       "</div>"
      ],
      "text/plain": [
       "   count  hate_speech  offensive_language  neither  class  \\\n",
       "0      3            0                   0        3      2   \n",
       "1      3            0                   3        0      1   \n",
       "2      3            0                   3        0      1   \n",
       "3      3            0                   2        1      1   \n",
       "4      6            0                   6        0      1   \n",
       "\n",
       "                                               tweet  \n",
       "0  !!! RT @mayasolovely: As a woman woman you sho...  \n",
       "1  !!!!! RT @mleew17: boy dats cold...tyga dwn ba...  \n",
       "2  !!!!!!! RT @UrKindOfBrand Dawg!!!! RT @80sbaby...  \n",
       "3  !!!!!!!!! RT @C_G_Anderson: @viva_based she lo...  \n",
       "4  !!!!!!!!!!!!! RT @ShenikaRoberts: The shit you...  "
      ]
     },
     "execution_count": 3,
     "metadata": {},
     "output_type": "execute_result"
    }
   ],
   "source": [
    "df = pd.read_csv(\"data/labeled_data.csv\", index_col=0)\n",
    "df.head()"
   ]
  },
  {
   "cell_type": "code",
   "execution_count": 4,
   "id": "f9603be0",
   "metadata": {},
   "outputs": [
    {
     "data": {
      "text/plain": [
       "(24783, 6)"
      ]
     },
     "execution_count": 4,
     "metadata": {},
     "output_type": "execute_result"
    }
   ],
   "source": [
    "df.shape"
   ]
  },
  {
   "cell_type": "code",
   "execution_count": 5,
   "id": "60b9a31c",
   "metadata": {},
   "outputs": [
    {
     "name": "stdout",
     "output_type": "stream",
     "text": [
      "1430\n",
      "19190\n",
      "4163\n"
     ]
    }
   ],
   "source": [
    "num_hate = len(df[df['class'] == 0])\n",
    "num_offensive = len(df[df['class'] == 1])\n",
    "num_neutral = len(df[df['class'] == 2])\n",
    "\n",
    "print(num_hate)\n",
    "print(num_offensive)\n",
    "print(num_neutral)"
   ]
  },
  {
   "cell_type": "code",
   "execution_count": 6,
   "id": "f78ec021",
   "metadata": {},
   "outputs": [
    {
     "data": {
      "text/html": [
       "<div>\n",
       "<style scoped>\n",
       "    .dataframe tbody tr th:only-of-type {\n",
       "        vertical-align: middle;\n",
       "    }\n",
       "\n",
       "    .dataframe tbody tr th {\n",
       "        vertical-align: top;\n",
       "    }\n",
       "\n",
       "    .dataframe thead th {\n",
       "        text-align: right;\n",
       "    }\n",
       "</style>\n",
       "<table border=\"1\" class=\"dataframe\">\n",
       "  <thead>\n",
       "    <tr style=\"text-align: right;\">\n",
       "      <th></th>\n",
       "      <th>count</th>\n",
       "      <th>hate_speech</th>\n",
       "      <th>offensive_language</th>\n",
       "      <th>neither</th>\n",
       "      <th>target</th>\n",
       "      <th>tweet</th>\n",
       "    </tr>\n",
       "  </thead>\n",
       "  <tbody>\n",
       "    <tr>\n",
       "      <th>0</th>\n",
       "      <td>3</td>\n",
       "      <td>0</td>\n",
       "      <td>0</td>\n",
       "      <td>3</td>\n",
       "      <td>2</td>\n",
       "      <td>!!! RT @mayasolovely: As a woman woman you sho...</td>\n",
       "    </tr>\n",
       "    <tr>\n",
       "      <th>1</th>\n",
       "      <td>3</td>\n",
       "      <td>0</td>\n",
       "      <td>3</td>\n",
       "      <td>0</td>\n",
       "      <td>1</td>\n",
       "      <td>!!!!! RT @mleew17: boy dats cold...tyga dwn ba...</td>\n",
       "    </tr>\n",
       "    <tr>\n",
       "      <th>2</th>\n",
       "      <td>3</td>\n",
       "      <td>0</td>\n",
       "      <td>3</td>\n",
       "      <td>0</td>\n",
       "      <td>1</td>\n",
       "      <td>!!!!!!! RT @UrKindOfBrand Dawg!!!! RT @80sbaby...</td>\n",
       "    </tr>\n",
       "    <tr>\n",
       "      <th>3</th>\n",
       "      <td>3</td>\n",
       "      <td>0</td>\n",
       "      <td>2</td>\n",
       "      <td>1</td>\n",
       "      <td>1</td>\n",
       "      <td>!!!!!!!!! RT @C_G_Anderson: @viva_based she lo...</td>\n",
       "    </tr>\n",
       "    <tr>\n",
       "      <th>4</th>\n",
       "      <td>6</td>\n",
       "      <td>0</td>\n",
       "      <td>6</td>\n",
       "      <td>0</td>\n",
       "      <td>1</td>\n",
       "      <td>!!!!!!!!!!!!! RT @ShenikaRoberts: The shit you...</td>\n",
       "    </tr>\n",
       "  </tbody>\n",
       "</table>\n",
       "</div>"
      ],
      "text/plain": [
       "   count  hate_speech  offensive_language  neither  target  \\\n",
       "0      3            0                   0        3       2   \n",
       "1      3            0                   3        0       1   \n",
       "2      3            0                   3        0       1   \n",
       "3      3            0                   2        1       1   \n",
       "4      6            0                   6        0       1   \n",
       "\n",
       "                                               tweet  \n",
       "0  !!! RT @mayasolovely: As a woman woman you sho...  \n",
       "1  !!!!! RT @mleew17: boy dats cold...tyga dwn ba...  \n",
       "2  !!!!!!! RT @UrKindOfBrand Dawg!!!! RT @80sbaby...  \n",
       "3  !!!!!!!!! RT @C_G_Anderson: @viva_based she lo...  \n",
       "4  !!!!!!!!!!!!! RT @ShenikaRoberts: The shit you...  "
      ]
     },
     "execution_count": 6,
     "metadata": {},
     "output_type": "execute_result"
    }
   ],
   "source": [
    "df = df.rename(columns={\"class\": 'target'})\n",
    "df.head()"
   ]
  },
  {
   "cell_type": "code",
   "execution_count": 7,
   "id": "8f5e4e4a",
   "metadata": {},
   "outputs": [
    {
     "data": {
      "text/plain": [
       "0    23353\n",
       "1     1430\n",
       "Name: target, dtype: int64"
      ]
     },
     "execution_count": 7,
     "metadata": {},
     "output_type": "execute_result"
    }
   ],
   "source": [
    "df.target = df.target.replace([2], 1)\n",
    "df.target = df.target.replace([0, 1], [1, 0])\n",
    "df.target.value_counts()"
   ]
  },
  {
   "cell_type": "code",
   "execution_count": 8,
   "id": "2d2769a0",
   "metadata": {},
   "outputs": [
    {
     "data": {
      "text/plain": [
       "0     !!! RT @mayasolovely: As a woman woman you sho...\n",
       "1     !!!!! RT @mleew17: boy dats cold...tyga dwn ba...\n",
       "2     !!!!!!! RT @UrKindOfBrand Dawg!!!! RT @80sbaby...\n",
       "3     !!!!!!!!! RT @C_G_Anderson: @viva_based she lo...\n",
       "4     !!!!!!!!!!!!! RT @ShenikaRoberts: The shit you...\n",
       "5     !!!!!!!!!!!!!!!!!!\"@T_Madison_x: The shit just...\n",
       "6     !!!!!!\"@__BrighterDays: I can not just sit up ...\n",
       "7     !!!!&#8220;@selfiequeenbri: cause I'm tired of...\n",
       "8     \" &amp; you might not get ya bitch back &amp; ...\n",
       "9     \" @rhythmixx_ :hobbies include: fighting Maria...\n",
       "10    \" Keeks is a bitch she curves everyone \" lol I...\n",
       "11                   \" Murda Gang bitch its Gang Land \"\n",
       "12    \" So hoes that smoke are losers ? \" yea ... go...\n",
       "13        \" bad bitches is the only thing that i like \"\n",
       "14                              \" bitch get up off me \"\n",
       "15                      \" bitch nigga miss me with it \"\n",
       "16                               \" bitch plz whatever \"\n",
       "17                            \" bitch who do you love \"\n",
       "18                   \" bitches get cut off everyday B \"\n",
       "19                   \" black bottle &amp; a bad bitch \"\n",
       "Name: tweet, dtype: object"
      ]
     },
     "execution_count": 8,
     "metadata": {},
     "output_type": "execute_result"
    }
   ],
   "source": [
    "df.tweet.head(20)"
   ]
  },
  {
   "cell_type": "code",
   "execution_count": 9,
   "id": "7c86ab94",
   "metadata": {},
   "outputs": [],
   "source": [
    "def remove_users(df, col):\n",
    "    df[col] = df[col].apply(lambda x: re.sub(r'(RT\\s@[A-Za-z]+[A-Za-z0-9-_]+)', '', str(x))) # remove re-tweet\n",
    "    df[col] = df[col].apply(lambda x: re.sub(r'(@[A-Za-z0-9-_]+)', '', str(x))) # remove tweeted at"
   ]
  },
  {
   "cell_type": "code",
   "execution_count": 10,
   "id": "89fbcf67",
   "metadata": {},
   "outputs": [],
   "source": [
    "remove_users(df, 'tweet')"
   ]
  },
  {
   "cell_type": "code",
   "execution_count": 11,
   "id": "cb690287",
   "metadata": {},
   "outputs": [
    {
     "data": {
      "text/plain": [
       "0     !!! : As a woman woman you shouldn't complain ...\n",
       "1     !!!!! : boy dats cold...tyga dwn bad for cuffi...\n",
       "2     !!!!!!!  Dawg!!!! RT : You ever fuck a bitch a...\n",
       "3                   !!!!!!!!! :  she look like a tranny\n",
       "4     !!!!!!!!!!!!! : The shit you hear about me mig...\n",
       "5     !!!!!!!!!!!!!!!!!!\": The shit just blows me..c...\n",
       "6     !!!!!!\": I can not just sit up and HATE on ano...\n",
       "7     !!!!&#8220;: cause I'm tired of you big bitche...\n",
       "8     \" &amp; you might not get ya bitch back &amp; ...\n",
       "9     \"  :hobbies include: fighting Mariam\"\\r\\n\\r\\nb...\n",
       "10    \" Keeks is a bitch she curves everyone \" lol I...\n",
       "11                   \" Murda Gang bitch its Gang Land \"\n",
       "12    \" So hoes that smoke are losers ? \" yea ... go...\n",
       "13        \" bad bitches is the only thing that i like \"\n",
       "14                              \" bitch get up off me \"\n",
       "15                      \" bitch nigga miss me with it \"\n",
       "16                               \" bitch plz whatever \"\n",
       "17                            \" bitch who do you love \"\n",
       "18                   \" bitches get cut off everyday B \"\n",
       "19                   \" black bottle &amp; a bad bitch \"\n",
       "Name: tweet, dtype: object"
      ]
     },
     "execution_count": 11,
     "metadata": {},
     "output_type": "execute_result"
    }
   ],
   "source": [
    "df.tweet.head(20)"
   ]
  },
  {
   "cell_type": "code",
   "execution_count": 12,
   "id": "23e8c0c4",
   "metadata": {},
   "outputs": [],
   "source": [
    "def remove_links(df, col):\n",
    "    df[col] = df[col].apply(lambda x: re.sub(r'http\\S+', '', str(x)))\n",
    "    df[col] = df[col].apply(lambda x: re.sub(r'bit.ly/\\S+', '', str(x)))"
   ]
  },
  {
   "cell_type": "code",
   "execution_count": 13,
   "id": "13dd7756",
   "metadata": {},
   "outputs": [
    {
     "data": {
      "text/plain": [
       "0     !!! : As a woman woman you shouldn't complain ...\n",
       "1     !!!!! : boy dats cold...tyga dwn bad for cuffi...\n",
       "2     !!!!!!!  Dawg!!!! RT : You ever fuck a bitch a...\n",
       "3                   !!!!!!!!! :  she look like a tranny\n",
       "4     !!!!!!!!!!!!! : The shit you hear about me mig...\n",
       "5     !!!!!!!!!!!!!!!!!!\": The shit just blows me..c...\n",
       "6     !!!!!!\": I can not just sit up and HATE on ano...\n",
       "7     !!!!&#8220;: cause I'm tired of you big bitche...\n",
       "8     \" &amp; you might not get ya bitch back &amp; ...\n",
       "9     \"  :hobbies include: fighting Mariam\"\\r\\n\\r\\nb...\n",
       "10    \" Keeks is a bitch she curves everyone \" lol I...\n",
       "11                   \" Murda Gang bitch its Gang Land \"\n",
       "12    \" So hoes that smoke are losers ? \" yea ... go...\n",
       "13        \" bad bitches is the only thing that i like \"\n",
       "14                              \" bitch get up off me \"\n",
       "15                      \" bitch nigga miss me with it \"\n",
       "16                               \" bitch plz whatever \"\n",
       "17                            \" bitch who do you love \"\n",
       "18                   \" bitches get cut off everyday B \"\n",
       "19                   \" black bottle &amp; a bad bitch \"\n",
       "Name: tweet, dtype: object"
      ]
     },
     "execution_count": 13,
     "metadata": {},
     "output_type": "execute_result"
    }
   ],
   "source": [
    "df.tweet.head(20)"
   ]
  },
  {
   "cell_type": "code",
   "execution_count": 14,
   "id": "947c17db",
   "metadata": {},
   "outputs": [],
   "source": [
    "remove_links(df, 'tweet')"
   ]
  },
  {
   "cell_type": "code",
   "execution_count": 15,
   "id": "2f7e603b",
   "metadata": {},
   "outputs": [
    {
     "data": {
      "text/plain": [
       "0     !!! : As a woman woman you shouldn't complain ...\n",
       "1     !!!!! : boy dats cold...tyga dwn bad for cuffi...\n",
       "2     !!!!!!!  Dawg!!!! RT : You ever fuck a bitch a...\n",
       "3                   !!!!!!!!! :  she look like a tranny\n",
       "4     !!!!!!!!!!!!! : The shit you hear about me mig...\n",
       "5     !!!!!!!!!!!!!!!!!!\": The shit just blows me..c...\n",
       "6     !!!!!!\": I can not just sit up and HATE on ano...\n",
       "7     !!!!&#8220;: cause I'm tired of you big bitche...\n",
       "8     \" &amp; you might not get ya bitch back &amp; ...\n",
       "9     \"  :hobbies include: fighting Mariam\"\\r\\n\\r\\nb...\n",
       "10    \" Keeks is a bitch she curves everyone \" lol I...\n",
       "11                   \" Murda Gang bitch its Gang Land \"\n",
       "12    \" So hoes that smoke are losers ? \" yea ... go...\n",
       "13        \" bad bitches is the only thing that i like \"\n",
       "14                              \" bitch get up off me \"\n",
       "15                      \" bitch nigga miss me with it \"\n",
       "16                               \" bitch plz whatever \"\n",
       "17                            \" bitch who do you love \"\n",
       "18                   \" bitches get cut off everyday B \"\n",
       "19                   \" black bottle &amp; a bad bitch \"\n",
       "Name: tweet, dtype: object"
      ]
     },
     "execution_count": 15,
     "metadata": {},
     "output_type": "execute_result"
    }
   ],
   "source": [
    "df.tweet.head(20)"
   ]
  },
  {
   "cell_type": "code",
   "execution_count": 16,
   "id": "f1b938e3",
   "metadata": {},
   "outputs": [],
   "source": [
    "def remove_special_char(df, col):\n",
    "    df[col] = df[col].apply(lambda x: re.sub(r'&[\\S]+?;', '', str(x)))\n",
    "    df[col] = df[col].apply(lambda x: re.sub(r'[^\\w\\s]', r'', str(x)))\n",
    "    df[col] = df[col].apply(lambda x: re.sub(r'#', ' ', str(x)))"
   ]
  },
  {
   "cell_type": "code",
   "execution_count": 17,
   "id": "fec43b93",
   "metadata": {},
   "outputs": [],
   "source": [
    "remove_special_char(df, 'tweet')"
   ]
  },
  {
   "cell_type": "code",
   "execution_count": 18,
   "id": "820f7dbb",
   "metadata": {},
   "outputs": [
    {
     "data": {
      "text/plain": [
       "0       As a woman woman you shouldnt complain about...\n",
       "1       boy dats coldtyga dwn bad for cuffin dat hoe...\n",
       "2       Dawg RT  You ever fuck a bitch and she start...\n",
       "3                                she look like a tranny\n",
       "4       The shit you hear about me might be true or ...\n",
       "5      The shit just blows meclaim you so faithful a...\n",
       "6      I can not just sit up and HATE on another bit...\n",
       "7      cause Im tired of you big bitches coming for ...\n",
       "8          you might not get ya bitch back  thats that \n",
       "9          hobbies include fighting Mariam\\r\\n\\r\\nbitch\n",
       "10     Keeks is a bitch she curves everyone  lol I w...\n",
       "11                      Murda Gang bitch its Gang Land \n",
       "12        So hoes that smoke are losers   yea  go on IG\n",
       "13           bad bitches is the only thing that i like \n",
       "14                                 bitch get up off me \n",
       "15                         bitch nigga miss me with it \n",
       "16                                  bitch plz whatever \n",
       "17                               bitch who do you love \n",
       "18                      bitches get cut off everyday B \n",
       "19                           black bottle  a bad bitch \n",
       "Name: tweet, dtype: object"
      ]
     },
     "execution_count": 18,
     "metadata": {},
     "output_type": "execute_result"
    }
   ],
   "source": [
    "df.tweet.head(20)"
   ]
  },
  {
   "cell_type": "code",
   "execution_count": 19,
   "id": "3234bf8b",
   "metadata": {},
   "outputs": [],
   "source": [
    "def remove_spaces(df, col):\n",
    "    df[col] = df[col].apply(lambda x: re.sub(r'\\s\\s+', ' ', str(x))) \n",
    "    df[col] = df[col].apply(lambda x: re.sub(r'(\\A\\s+|\\s+\\Z)', '', str(x)))"
   ]
  },
  {
   "cell_type": "code",
   "execution_count": 20,
   "id": "9c3de6c6",
   "metadata": {},
   "outputs": [],
   "source": [
    "remove_spaces(df, 'tweet')"
   ]
  },
  {
   "cell_type": "code",
   "execution_count": 21,
   "id": "f8dd71fb",
   "metadata": {},
   "outputs": [
    {
     "data": {
      "text/plain": [
       "0     As a woman woman you shouldnt complain about c...\n",
       "1     boy dats coldtyga dwn bad for cuffin dat hoe i...\n",
       "2     Dawg RT You ever fuck a bitch and she start to...\n",
       "3                                she look like a tranny\n",
       "4     The shit you hear about me might be true or it...\n",
       "5     The shit just blows meclaim you so faithful an...\n",
       "6     I can not just sit up and HATE on another bitc...\n",
       "7     cause Im tired of you big bitches coming for u...\n",
       "8            you might not get ya bitch back thats that\n",
       "9                 hobbies include fighting Mariam bitch\n",
       "10    Keeks is a bitch she curves everyone lol I wal...\n",
       "11                       Murda Gang bitch its Gang Land\n",
       "12           So hoes that smoke are losers yea go on IG\n",
       "13            bad bitches is the only thing that i like\n",
       "14                                  bitch get up off me\n",
       "15                          bitch nigga miss me with it\n",
       "16                                   bitch plz whatever\n",
       "17                                bitch who do you love\n",
       "18                       bitches get cut off everyday B\n",
       "19                             black bottle a bad bitch\n",
       "Name: tweet, dtype: object"
      ]
     },
     "execution_count": 21,
     "metadata": {},
     "output_type": "execute_result"
    }
   ],
   "source": [
    "df.tweet.head(20)"
   ]
  },
  {
   "cell_type": "code",
   "execution_count": 22,
   "id": "8cd4ff6d",
   "metadata": {},
   "outputs": [],
   "source": [
    "def remove_numerics(df, col):\n",
    "    \"\"\"function to remove numbers or words with digits\"\"\"\n",
    "    df[col] = df[col].apply(lambda x: re.sub(r'\\w*\\d\\w*', r'', str(x)))"
   ]
  },
  {
   "cell_type": "code",
   "execution_count": 23,
   "id": "f95ca379",
   "metadata": {},
   "outputs": [],
   "source": [
    "remove_numerics(df, 'tweet')"
   ]
  },
  {
   "cell_type": "code",
   "execution_count": 24,
   "id": "99787fdd",
   "metadata": {},
   "outputs": [
    {
     "data": {
      "text/plain": [
       "0     As a woman woman you shouldnt complain about c...\n",
       "1     boy dats coldtyga dwn bad for cuffin dat hoe i...\n",
       "2     Dawg RT You ever fuck a bitch and she start to...\n",
       "3                                she look like a tranny\n",
       "4     The shit you hear about me might be true or it...\n",
       "5     The shit just blows meclaim you so faithful an...\n",
       "6     I can not just sit up and HATE on another bitc...\n",
       "7     cause Im tired of you big bitches coming for u...\n",
       "8            you might not get ya bitch back thats that\n",
       "9                 hobbies include fighting Mariam bitch\n",
       "10    Keeks is a bitch she curves everyone lol I wal...\n",
       "11                       Murda Gang bitch its Gang Land\n",
       "12           So hoes that smoke are losers yea go on IG\n",
       "13            bad bitches is the only thing that i like\n",
       "14                                  bitch get up off me\n",
       "15                          bitch nigga miss me with it\n",
       "16                                   bitch plz whatever\n",
       "17                                bitch who do you love\n",
       "18                       bitches get cut off everyday B\n",
       "19                             black bottle a bad bitch\n",
       "Name: tweet, dtype: object"
      ]
     },
     "execution_count": 24,
     "metadata": {},
     "output_type": "execute_result"
    }
   ],
   "source": [
    "df.tweet.head(20)"
   ]
  },
  {
   "cell_type": "code",
   "execution_count": 25,
   "id": "f79b92dd",
   "metadata": {},
   "outputs": [],
   "source": [
    "def lemmatize(token):\n",
    "    \"\"\"Returns lemmatization of a token\"\"\"\n",
    "    return WordNetLemmatizer().lemmatize(token, pos='v')\n",
    "\n",
    "def tokenize(tweet):\n",
    "    \"\"\"Returns tokenized representation of words in lemma form excluding stopwords\"\"\"\n",
    "    result = []\n",
    "    stop_words = set(stopwords.words('english'))\n",
    "    word_tokens = word_tokenize(tweet)\n",
    "    for token in word_tokens:    \n",
    "        if token.lower not in stop_words and len(token) > 2:  # drops words with less than 3 characters\n",
    "            result.append(lemmatize(token))\n",
    "    return result"
   ]
  },
  {
   "cell_type": "code",
   "execution_count": 26,
   "id": "3689a09a",
   "metadata": {},
   "outputs": [],
   "source": [
    "def tokenize_and_lemmatize(df, col):\n",
    "    df[col] = df[col].apply(lambda x: tokenize(x))\n",
    "    df.tweet = df.tweet.apply(lambda x: str(x)[1:-1])"
   ]
  },
  {
   "cell_type": "code",
   "execution_count": 27,
   "id": "4c718bbe",
   "metadata": {},
   "outputs": [],
   "source": [
    "tokenize_and_lemmatize(df, 'tweet')"
   ]
  },
  {
   "cell_type": "code",
   "execution_count": 28,
   "id": "63c4d865",
   "metadata": {},
   "outputs": [
    {
     "data": {
      "text/html": [
       "<div>\n",
       "<style scoped>\n",
       "    .dataframe tbody tr th:only-of-type {\n",
       "        vertical-align: middle;\n",
       "    }\n",
       "\n",
       "    .dataframe tbody tr th {\n",
       "        vertical-align: top;\n",
       "    }\n",
       "\n",
       "    .dataframe thead th {\n",
       "        text-align: right;\n",
       "    }\n",
       "</style>\n",
       "<table border=\"1\" class=\"dataframe\">\n",
       "  <thead>\n",
       "    <tr style=\"text-align: right;\">\n",
       "      <th></th>\n",
       "      <th>count</th>\n",
       "      <th>hate_speech</th>\n",
       "      <th>offensive_language</th>\n",
       "      <th>neither</th>\n",
       "      <th>target</th>\n",
       "      <th>tweet</th>\n",
       "    </tr>\n",
       "  </thead>\n",
       "  <tbody>\n",
       "    <tr>\n",
       "      <th>0</th>\n",
       "      <td>3</td>\n",
       "      <td>0</td>\n",
       "      <td>0</td>\n",
       "      <td>3</td>\n",
       "      <td>0</td>\n",
       "      <td>'woman', 'woman', 'you', 'shouldnt', 'complain...</td>\n",
       "    </tr>\n",
       "    <tr>\n",
       "      <th>1</th>\n",
       "      <td>3</td>\n",
       "      <td>0</td>\n",
       "      <td>3</td>\n",
       "      <td>0</td>\n",
       "      <td>0</td>\n",
       "      <td>'boy', 'dats', 'coldtyga', 'dwn', 'bad', 'for'...</td>\n",
       "    </tr>\n",
       "    <tr>\n",
       "      <th>2</th>\n",
       "      <td>3</td>\n",
       "      <td>0</td>\n",
       "      <td>3</td>\n",
       "      <td>0</td>\n",
       "      <td>0</td>\n",
       "      <td>'Dawg', 'You', 'ever', 'fuck', 'bitch', 'and',...</td>\n",
       "    </tr>\n",
       "    <tr>\n",
       "      <th>3</th>\n",
       "      <td>3</td>\n",
       "      <td>0</td>\n",
       "      <td>2</td>\n",
       "      <td>1</td>\n",
       "      <td>0</td>\n",
       "      <td>'she', 'look', 'like', 'tranny'</td>\n",
       "    </tr>\n",
       "    <tr>\n",
       "      <th>4</th>\n",
       "      <td>6</td>\n",
       "      <td>0</td>\n",
       "      <td>6</td>\n",
       "      <td>0</td>\n",
       "      <td>0</td>\n",
       "      <td>'The', 'shit', 'you', 'hear', 'about', 'might'...</td>\n",
       "    </tr>\n",
       "  </tbody>\n",
       "</table>\n",
       "</div>"
      ],
      "text/plain": [
       "   count  hate_speech  offensive_language  neither  target  \\\n",
       "0      3            0                   0        3       0   \n",
       "1      3            0                   3        0       0   \n",
       "2      3            0                   3        0       0   \n",
       "3      3            0                   2        1       0   \n",
       "4      6            0                   6        0       0   \n",
       "\n",
       "                                               tweet  \n",
       "0  'woman', 'woman', 'you', 'shouldnt', 'complain...  \n",
       "1  'boy', 'dats', 'coldtyga', 'dwn', 'bad', 'for'...  \n",
       "2  'Dawg', 'You', 'ever', 'fuck', 'bitch', 'and',...  \n",
       "3                    'she', 'look', 'like', 'tranny'  \n",
       "4  'The', 'shit', 'you', 'hear', 'about', 'might'...  "
      ]
     },
     "execution_count": 28,
     "metadata": {},
     "output_type": "execute_result"
    }
   ],
   "source": [
    "df.head()"
   ]
  },
  {
   "cell_type": "code",
   "execution_count": 29,
   "id": "14cefbea",
   "metadata": {},
   "outputs": [],
   "source": [
    "#Train-Validation-Test Split\n",
    "hate = df[df.target == 1]\n",
    "non_hate = df[df.target == 0]"
   ]
  },
  {
   "cell_type": "code",
   "execution_count": 30,
   "id": "e55646f4",
   "metadata": {},
   "outputs": [],
   "source": [
    "X_h = hate.tweet\n",
    "y_h = hate.target\n",
    "X_nh = non_hate.tweet\n",
    "y_nh = non_hate.target\n",
    "\n",
    "# perform 75-25 training-validation split and 15-10 validation-testing split on dataset\n",
    "X_h_tr, X_h_val, y_h_tr, y_h_val = train_test_split(X_h, y_h, test_size=0.25, random_state=42)\n",
    "X_nh_tr, X_nh_val, y_nh_tr, y_nh_val = train_test_split(X_nh, y_nh, test_size=0.25, random_state=42)"
   ]
  },
  {
   "cell_type": "code",
   "execution_count": 31,
   "id": "9579b9c7",
   "metadata": {},
   "outputs": [],
   "source": [
    "X_tr = pd.concat((X_h_tr, X_nh_tr), ignore_index=True)\n",
    "y_tr = pd.concat((y_h_tr, y_nh_tr), ignore_index=True)\n",
    "train = pd.concat([X_tr, y_tr], axis=1)"
   ]
  },
  {
   "cell_type": "code",
   "execution_count": 32,
   "id": "747d5dc0",
   "metadata": {},
   "outputs": [
    {
     "data": {
      "text/html": [
       "<div>\n",
       "<style scoped>\n",
       "    .dataframe tbody tr th:only-of-type {\n",
       "        vertical-align: middle;\n",
       "    }\n",
       "\n",
       "    .dataframe tbody tr th {\n",
       "        vertical-align: top;\n",
       "    }\n",
       "\n",
       "    .dataframe thead th {\n",
       "        text-align: right;\n",
       "    }\n",
       "</style>\n",
       "<table border=\"1\" class=\"dataframe\">\n",
       "  <thead>\n",
       "    <tr style=\"text-align: right;\">\n",
       "      <th></th>\n",
       "      <th>tweet</th>\n",
       "      <th>target</th>\n",
       "    </tr>\n",
       "  </thead>\n",
       "  <tbody>\n",
       "    <tr>\n",
       "      <th>0</th>\n",
       "      <td>'the', 'reject', 'niggas', 'who', 'constantly'...</td>\n",
       "      <td>1</td>\n",
       "    </tr>\n",
       "    <tr>\n",
       "      <th>1</th>\n",
       "      <td>'will', 'convince', 'that', 'lame', 'you', 'ni...</td>\n",
       "      <td>1</td>\n",
       "    </tr>\n",
       "    <tr>\n",
       "      <th>2</th>\n",
       "      <td>'Peace', 'fag', 'just', 'remember', 'best', 'L...</td>\n",
       "      <td>1</td>\n",
       "    </tr>\n",
       "    <tr>\n",
       "      <th>3</th>\n",
       "      <td>'haha', 'ight', 'nig', 'calm', 'yoself'</td>\n",
       "      <td>1</td>\n",
       "    </tr>\n",
       "    <tr>\n",
       "      <th>4</th>\n",
       "      <td>'your', 'tits', 'may', 'better', 'look', 'but'...</td>\n",
       "      <td>1</td>\n",
       "    </tr>\n",
       "  </tbody>\n",
       "</table>\n",
       "</div>"
      ],
      "text/plain": [
       "                                               tweet  target\n",
       "0  'the', 'reject', 'niggas', 'who', 'constantly'...       1\n",
       "1  'will', 'convince', 'that', 'lame', 'you', 'ni...       1\n",
       "2  'Peace', 'fag', 'just', 'remember', 'best', 'L...       1\n",
       "3            'haha', 'ight', 'nig', 'calm', 'yoself'       1\n",
       "4  'your', 'tits', 'may', 'better', 'look', 'but'...       1"
      ]
     },
     "execution_count": 32,
     "metadata": {},
     "output_type": "execute_result"
    }
   ],
   "source": [
    "train.head()"
   ]
  },
  {
   "cell_type": "code",
   "execution_count": 33,
   "id": "17153750",
   "metadata": {},
   "outputs": [
    {
     "data": {
      "text/plain": [
       "0        'the', 'reject', 'niggas', 'who', 'constantly'...\n",
       "1        'will', 'convince', 'that', 'lame', 'you', 'ni...\n",
       "2        'Peace', 'fag', 'just', 'remember', 'best', 'L...\n",
       "3                  'haha', 'ight', 'nig', 'calm', 'yoself'\n",
       "4        'your', 'tits', 'may', 'better', 'look', 'but'...\n",
       "                               ...                        \n",
       "18581                        'Miss', 'you', 'lil', 'bitch'\n",
       "18582    'Why', 'you', 'get', 'such', 'hoe', 'smh', 'ai...\n",
       "18583    'lmao', 'yeah', 'bitch', 'that', 'lil', 'shit'...\n",
       "18584                          'tbt', 'be', 'bad', 'bitch'\n",
       "18585    'These', 'hoe', 'act', 'you', 'know', 'what', ...\n",
       "Name: tweet, Length: 18586, dtype: object"
      ]
     },
     "execution_count": 33,
     "metadata": {},
     "output_type": "execute_result"
    }
   ],
   "source": [
    "train.tweet"
   ]
  },
  {
   "cell_type": "code",
   "execution_count": 34,
   "id": "55252c09",
   "metadata": {},
   "outputs": [
    {
     "data": {
      "text/html": [
       "<div>\n",
       "<style scoped>\n",
       "    .dataframe tbody tr th:only-of-type {\n",
       "        vertical-align: middle;\n",
       "    }\n",
       "\n",
       "    .dataframe tbody tr th {\n",
       "        vertical-align: top;\n",
       "    }\n",
       "\n",
       "    .dataframe thead th {\n",
       "        text-align: right;\n",
       "    }\n",
       "</style>\n",
       "<table border=\"1\" class=\"dataframe\">\n",
       "  <thead>\n",
       "    <tr style=\"text-align: right;\">\n",
       "      <th></th>\n",
       "      <th>tweet</th>\n",
       "      <th>target</th>\n",
       "    </tr>\n",
       "  </thead>\n",
       "  <tbody>\n",
       "    <tr>\n",
       "      <th>0</th>\n",
       "      <td>'lbum', 'fotos', 'gaywrites', 'the', 'Making',...</td>\n",
       "      <td>1</td>\n",
       "    </tr>\n",
       "    <tr>\n",
       "      <th>1</th>\n",
       "      <td>'Yay', 'for', 'America', 'Israel', 'put', 'mor...</td>\n",
       "      <td>1</td>\n",
       "    </tr>\n",
       "    <tr>\n",
       "      <th>2</th>\n",
       "      <td>'miss', 'something', 'ofay', 'friends', 'Day',...</td>\n",
       "      <td>1</td>\n",
       "    </tr>\n",
       "    <tr>\n",
       "      <th>3</th>\n",
       "      <td>'take', 'the', 'trash', 'out', 'and', 'darkski...</td>\n",
       "      <td>1</td>\n",
       "    </tr>\n",
       "    <tr>\n",
       "      <th>4</th>\n",
       "      <td>'Cody', 'ALWAYS', 'call', 'people', 'nigger', ...</td>\n",
       "      <td>1</td>\n",
       "    </tr>\n",
       "  </tbody>\n",
       "</table>\n",
       "</div>"
      ],
      "text/plain": [
       "                                               tweet  target\n",
       "0  'lbum', 'fotos', 'gaywrites', 'the', 'Making',...       1\n",
       "1  'Yay', 'for', 'America', 'Israel', 'put', 'mor...       1\n",
       "2  'miss', 'something', 'ofay', 'friends', 'Day',...       1\n",
       "3  'take', 'the', 'trash', 'out', 'and', 'darkski...       1\n",
       "4  'Cody', 'ALWAYS', 'call', 'people', 'nigger', ...       1"
      ]
     },
     "execution_count": 34,
     "metadata": {},
     "output_type": "execute_result"
    }
   ],
   "source": [
    "X_val = pd.concat((X_h_val, X_nh_val), ignore_index=True)\n",
    "y_val = pd.concat((y_h_val, y_nh_val), ignore_index=True)\n",
    "val = pd.concat([X_val, y_val], axis=1)\n",
    "\n",
    "val.head()"
   ]
  },
  {
   "cell_type": "code",
   "execution_count": 35,
   "id": "91942022",
   "metadata": {},
   "outputs": [
    {
     "data": {
      "text/html": [
       "<div>\n",
       "<style scoped>\n",
       "    .dataframe tbody tr th:only-of-type {\n",
       "        vertical-align: middle;\n",
       "    }\n",
       "\n",
       "    .dataframe tbody tr th {\n",
       "        vertical-align: top;\n",
       "    }\n",
       "\n",
       "    .dataframe thead th {\n",
       "        text-align: right;\n",
       "    }\n",
       "</style>\n",
       "<table border=\"1\" class=\"dataframe\">\n",
       "  <thead>\n",
       "    <tr style=\"text-align: right;\">\n",
       "      <th></th>\n",
       "      <th>tweet</th>\n",
       "      <th>target</th>\n",
       "    </tr>\n",
       "  </thead>\n",
       "  <tbody>\n",
       "    <tr>\n",
       "      <th>0</th>\n",
       "      <td>'Johnny', 'Rebel', 'could', 'nigger', 'for', '...</td>\n",
       "      <td>1</td>\n",
       "    </tr>\n",
       "    <tr>\n",
       "      <th>1</th>\n",
       "      <td>'favorite', 'nigger', 'work', 'the', 'plantati...</td>\n",
       "      <td>1</td>\n",
       "    </tr>\n",
       "    <tr>\n",
       "      <th>2</th>\n",
       "      <td>'None', 'go', 'these', 'PRESTIGIOUS', 'establi...</td>\n",
       "      <td>1</td>\n",
       "    </tr>\n",
       "    <tr>\n",
       "      <th>3</th>\n",
       "      <td>'WestVirginia', 'full', 'white', 'trash'</td>\n",
       "      <td>1</td>\n",
       "    </tr>\n",
       "    <tr>\n",
       "      <th>4</th>\n",
       "      <td>'fuck', 'Brett', 'Farve', 'redneck', 'ass', 's...</td>\n",
       "      <td>1</td>\n",
       "    </tr>\n",
       "  </tbody>\n",
       "</table>\n",
       "</div>"
      ],
      "text/plain": [
       "                                               tweet  target\n",
       "0  'Johnny', 'Rebel', 'could', 'nigger', 'for', '...       1\n",
       "1  'favorite', 'nigger', 'work', 'the', 'plantati...       1\n",
       "2  'None', 'go', 'these', 'PRESTIGIOUS', 'establi...       1\n",
       "3           'WestVirginia', 'full', 'white', 'trash'       1\n",
       "4  'fuck', 'Brett', 'Farve', 'redneck', 'ass', 's...       1"
      ]
     },
     "execution_count": 35,
     "metadata": {},
     "output_type": "execute_result"
    }
   ],
   "source": [
    "X_tt = pd.concat((X_h_tt, X_nh_tt), ignore_index=True)\n",
    "y_tt = pd.concat((y_h_tt, y_nh_tt), ignore_index=True)\n",
    "test = pd.concat([X_tt, y_tt], axis=1)\n",
    "\n",
    "test.head()"
   ]
  },
  {
   "cell_type": "code",
   "execution_count": 36,
   "id": "a6e01f38",
   "metadata": {},
   "outputs": [],
   "source": [
    "X_tr = train.tweet\n",
    "X_val = val.tweet\n",
    "y_tr = train.target\n",
    "y_val = val.target\n",
    "\n",
    "# vectorize tweets for modeling\n",
    "vec = TfidfVectorizer()\n",
    "tfidf_tr = vec.fit_transform(X_tr)\n",
    "tfidf_val = vec.transform(X_val)"
   ]
  },
  {
   "cell_type": "code",
   "execution_count": 37,
   "id": "34424017",
   "metadata": {},
   "outputs": [],
   "source": [
    "def auc(X, y, model):\n",
    "    probs = model.predict_proba(X)[:,1] \n",
    "    return roc_auc_score(y, probs)"
   ]
  },
  {
   "cell_type": "code",
   "execution_count": 38,
   "id": "41a41e71",
   "metadata": {},
   "outputs": [],
   "source": [
    "def aps(X, y, model):\n",
    "    probs = model.predict_proba(X)[:,1]\n",
    "    return average_precision_score(y, probs)"
   ]
  },
  {
   "cell_type": "code",
   "execution_count": 39,
   "id": "6785b39f",
   "metadata": {},
   "outputs": [],
   "source": [
    "\n",
    "def get_metrics_confusion(X, y, y_pred, model):\n",
    "    acc = accuracy_score(y, y_pred)\n",
    "    f1 = f1_score(y, y_pred)\n",
    "    roc_auc = auc(X, y, model)\n",
    "    rec = recall_score(y, y_pred)\n",
    "    prec = precision_score(y, y_pred)\n",
    "    pr_auc = aps(X, y, model)\n",
    "\n",
    "    print('Accuracy: ', acc)\n",
    "    print('F1 Score: ', f1)\n",
    "    print('ROC-AUC: ', roc_auc)\n",
    "    print('Recall: ', rec)\n",
    "    print('Precision: ', prec)\n",
    "    print('PR-AUC: ', pr_auc)\n",
    "    \n",
    "    cnf = confusion_matrix(y, y_pred)\n",
    "    group_names = ['TN','FP','FN','TP']\n",
    "    group_counts = ['{0:0.0f}'.format(value) for value in cnf.flatten()]\n",
    "    group_percentages = ['{0:.2%}'.format(value) for value in cnf.flatten()/np.sum(cnf)]\n",
    "    labels = [f'{v1}\\n{v2}\\n{v3}' for v1, v2, v3 in zip(group_names, group_counts, group_percentages)]\n",
    "    labels = np.asarray(labels).reshape(2,2)\n",
    "    fig, ax = plt.subplots(figsize=(4,4))\n",
    "    sns.heatmap(cnf, annot=labels, fmt='', cmap='Blues', annot_kws={'size':14}, cbar=False, xticklabels=False, yticklabels=False)"
   ]
  },
  {
   "cell_type": "code",
   "execution_count": 40,
   "id": "b85c8550",
   "metadata": {},
   "outputs": [
    {
     "name": "stdout",
     "output_type": "stream",
     "text": [
      "Accuracy:  0.9426957223567393\n",
      "F1 Score:  0.009302325581395347\n",
      "ROC-AUC:  0.6791668556457616\n",
      "Recall:  0.004672897196261682\n",
      "Precision:  1.0\n",
      "PR-AUC:  0.14351153745929193\n"
     ]
    },
    {
     "data": {
      "image/png": "[encoded data removed]",
      "text/plain": [
       "<Figure size 288x288 with 1 Axes>"
      ]
     },
     "metadata": {},
     "output_type": "display_data"
    }
   ],
   "source": [
    "nb = MultinomialNB().fit(tfidf_tr, y_tr)\n",
    "y_pred_nb = nb.predict(tfidf_val)\n",
    "get_metrics_confusion(tfidf_val, y_val, y_pred_nb, nb)"
   ]
  },
  {
   "cell_type": "code",
   "execution_count": 41,
   "id": "8f753163",
   "metadata": {},
   "outputs": [
    {
     "name": "stdout",
     "output_type": "stream",
     "text": [
      "Accuracy:  0.9421576540220608\n",
      "F1 Score:  0.14342629482071714\n",
      "ROC-AUC:  0.8183392872864648\n",
      "Recall:  0.08411214953271028\n",
      "Precision:  0.4864864864864865\n",
      "PR-AUC:  0.30595559599087246\n"
     ]
    },
    {
     "data": {
      "image/png": "[encoded data removed]",
      "text/plain": [
       "<Figure size 288x288 with 1 Axes>"
      ]
     },
     "metadata": {},
     "output_type": "display_data"
    }
   ],
   "source": [
    "rf = RandomForestClassifier(n_estimators=100).fit(tfidf_tr, y_tr)\n",
    "y_pred_rf = rf.predict(tfidf_val)\n",
    "get_metrics_confusion(tfidf_val, y_val, y_pred_rf, rf)"
   ]
  },
  {
   "cell_type": "code",
   "execution_count": 42,
   "id": "624feee6",
   "metadata": {},
   "outputs": [
    {
     "name": "stdout",
     "output_type": "stream",
     "text": [
      "Accuracy:  0.9432337906914178\n",
      "F1 Score:  0.16600790513833993\n",
      "ROC-AUC:  0.8735863252058984\n",
      "Recall:  0.09813084112149532\n",
      "Precision:  0.5384615384615384\n",
      "PR-AUC:  0.34745450079293605\n"
     ]
    },
    {
     "data": {
      "image/png": "[encoded data removed]",
      "text/plain": [
       "<Figure size 288x288 with 1 Axes>"
      ]
     },
     "metadata": {},
     "output_type": "display_data"
    }
   ],
   "source": [
    "log = LogisticRegression().fit(tfidf_tr, y_tr)\n",
    "y_pred_log = log.predict(tfidf_val)\n",
    "get_metrics_confusion(tfidf_val, y_val, y_pred_log, log)"
   ]
  },
  {
   "cell_type": "code",
   "execution_count": 43,
   "id": "769ec324",
   "metadata": {},
   "outputs": [
    {
     "name": "stdout",
     "output_type": "stream",
     "text": [
      "Accuracy:  0.9394673123486683\n",
      "F1 Score:  0.25742574257425743\n",
      "ROC-AUC:  0.815950813855147\n",
      "Recall:  0.1822429906542056\n",
      "Precision:  0.43820224719101125\n",
      "PR-AUC:  0.28930636339957816\n"
     ]
    },
    {
     "data": {
      "image/png": "[encoded data removed]",
      "text/plain": [
       "<Figure size 288x288 with 1 Axes>"
      ]
     },
     "metadata": {},
     "output_type": "display_data"
    }
   ],
   "source": [
    "abc = AdaBoostClassifier(\n",
    "    DecisionTreeClassifier(max_depth=1),\n",
    "    n_estimators=200\n",
    "    ).fit(tfidf_tr, y_tr)\n",
    "y_pred_abc = abc.predict(tfidf_val)\n",
    "get_metrics_confusion(tfidf_val, y_val, y_pred_abc, abc)"
   ]
  },
  {
   "cell_type": "code",
   "execution_count": 205,
   "id": "3d4bfee7",
   "metadata": {},
   "outputs": [
    {
     "name": "stdout",
     "output_type": "stream",
     "text": [
      "Accuracy:  0.9432337906914178\n",
      "F1 Score:  0.16600790513833993\n",
      "ROC-AUC:  0.8735556438940187\n",
      "Recall:  0.09813084112149532\n",
      "Precision:  0.5384615384615384\n",
      "PR-AUC:  0.34783532085636276\n"
     ]
    },
    {
     "data": {
      "image/png": "[encoded data removed]",
      "text/plain": [
       "<Figure size 288x288 with 1 Axes>"
      ]
     },
     "metadata": {},
     "output_type": "display_data"
    }
   ],
   "source": [
    "log = LogisticRegression().fit(tfidf_tr, y_tr)\n",
    "y_pred_log = log.predict(tfidf_val)\n",
    "get_metrics_confusion(tfidf_val, y_val, y_pred_log, log)"
   ]
  },
  {
   "cell_type": "code",
   "execution_count": 206,
   "id": "0fabbb9e",
   "metadata": {},
   "outputs": [
    {
     "name": "stdout",
     "output_type": "stream",
     "text": [
      "Accuracy:  0.9418886198547215\n",
      "F1 Score:  0.16923076923076924\n",
      "ROC-AUC:  0.8390591775807652\n",
      "Recall:  0.102803738317757\n",
      "Precision:  0.4782608695652174\n",
      "PR-AUC:  0.35373251344413625\n"
     ]
    },
    {
     "data": {
      "image/png": "[encoded data removed]",
      "text/plain": [
       "<Figure size 288x288 with 1 Axes>"
      ]
     },
     "metadata": {},
     "output_type": "display_data"
    }
   ],
   "source": [
    "gbc = GradientBoostingClassifier().fit(tfidf_tr, y_tr)\n",
    "y_pred_gbc = gbc.predict(tfidf_val)\n",
    "get_metrics_confusion(tfidf_val, y_val, y_pred_gbc, gbc)"
   ]
  },
  {
   "cell_type": "code",
   "execution_count": null,
   "id": "c0b923dc",
   "metadata": {},
   "outputs": [],
   "source": [
    "df.tweet.head(20)"
   ]
  }
 ],
 "metadata": {
  "kernelspec": {
   "display_name": "Python 3 (ipykernel)",
   "language": "python",
   "name": "python3"
  },
  "language_info": {
   "codemirror_mode": {
    "name": "ipython",
    "version": 3
   },
   "file_extension": ".py",
   "mimetype": "text/x-python",
   "name": "python",
   "nbconvert_exporter": "python",
   "pygments_lexer": "ipython3",
   "version": "3.9.12"
  },
  "vscode": {
   "interpreter": {
    "hash": "f26e8b98f7d1e0e21173cb95fa249a764c332608d344e0d6be38fcbd1bf0c593"
   }
  }
 },
 "nbformat": 4,
 "nbformat_minor": 5
}
